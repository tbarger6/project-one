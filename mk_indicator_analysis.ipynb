{
 "cells": [
  {
   "cell_type": "code",
   "execution_count": 1,
   "metadata": {},
   "outputs": [],
   "source": [
    "import pandas as pd\n",
    "import matplotlib.pyplot as plt\n",
    "import requests\n",
    "import json\n",
    "import numpy as np\n",
    "import scipy.stats as sts"
   ]
  },
  {
   "cell_type": "markdown",
   "metadata": {},
   "source": [
    "## World Bank API Call and Data Cleaning"
   ]
  },
  {
   "cell_type": "code",
   "execution_count": 2,
   "metadata": {},
   "outputs": [],
   "source": [
    "#Define list of indicators you want to loop through\n",
    "indicator_list = list([\"NY.GDP.PCAP.CD\",\"NY.GDP.MKTP.KD.ZG\",\"SL.UEM.TOTL.MA.NE.ZS\",\"SL.UEM.TOTL.FE.NE.ZS\"])\n",
    "\n",
    "#Define country that I'm interested in\n",
    "country= \"usa\"\n",
    "\n",
    "#Find base url for api\n",
    "base_url = \"http://api.worldbank.org/v2\"\n",
    "\n",
    "#Choose desired format\n",
    "response_format = \"json\"\n",
    "\n",
    "#create empty list to store the response\n",
    "api_responses = []\n",
    "\n",
    "for indicator in indicator_list:\n",
    "    \n",
    "    #Build api request \n",
    "    request_url = f\"{base_url}/country/{country}/indicator/{indicator}?format={response_format}\"\n",
    "\n",
    "    #Submit api request and store as response variable\n",
    "    response = requests.get(request_url).json()\n",
    "    \n",
    "    #Add each response \n",
    "    api_responses = api_responses + response[1]\n"
   ]
  },
  {
   "cell_type": "code",
   "execution_count": 3,
   "metadata": {},
   "outputs": [
    {
     "data": {
      "text/plain": [
       "'GDP per capita (current US$)'"
      ]
     },
     "execution_count": 3,
     "metadata": {},
     "output_type": "execute_result"
    }
   ],
   "source": [
    "api_responses[0][\"indicator\"][\"value\"]"
   ]
  },
  {
   "cell_type": "code",
   "execution_count": 4,
   "metadata": {},
   "outputs": [],
   "source": [
    "indicator_list = []\n",
    "country_list = []\n",
    "year_list = []\n",
    "value_list = []\n",
    "\n",
    "for dictionary in api_responses:\n",
    "    \n",
    "    indicator = dictionary[\"indicator\"][\"value\"]\n",
    "    country = dictionary[\"country\"][\"value\"]\n",
    "    year = dictionary[\"date\"]\n",
    "    value = dictionary[\"value\"]\n",
    "    \n",
    "    indicator_list.append(indicator)\n",
    "    country_list.append(country)\n",
    "    year_list.append(year)\n",
    "    value_list.append(value)\n",
    "    \n",
    "\n",
    "    "
   ]
  },
  {
   "cell_type": "code",
   "execution_count": 5,
   "metadata": {},
   "outputs": [],
   "source": [
    "usa_indicator_dict = {\n",
    "    \"indicator\":indicator_list,\n",
    "    \"country\":country_list,\n",
    "    \"year\":year_list,\n",
    "    \"value\":value_list\n",
    "}"
   ]
  },
  {
   "cell_type": "code",
   "execution_count": 6,
   "metadata": {},
   "outputs": [],
   "source": [
    "df = pd.DataFrame(usa_indicator_dict)"
   ]
  },
  {
   "cell_type": "code",
   "execution_count": 7,
   "metadata": {},
   "outputs": [
    {
     "data": {
      "text/plain": [
       "['GDP per capita (current US$)',\n",
       " 'GDP growth (annual %)',\n",
       " 'Unemployment, male (% of male labor force) (national estimate)',\n",
       " 'Unemployment, female (% of female labor force) (national estimate)']"
      ]
     },
     "execution_count": 7,
     "metadata": {},
     "output_type": "execute_result"
    }
   ],
   "source": [
    "indicator_list = list(df[\"indicator\"].unique())\n",
    "indicator_list"
   ]
  },
  {
   "cell_type": "code",
   "execution_count": 8,
   "metadata": {},
   "outputs": [],
   "source": [
    "df_list = []\n",
    "\n",
    "for indicator in indicator_list:\n",
    "    \n",
    "    sub_df = df.loc[df[\"indicator\"]==indicator]\n",
    "    \n",
    "    df_list.append(sub_df)"
   ]
  },
  {
   "cell_type": "code",
   "execution_count": 9,
   "metadata": {},
   "outputs": [],
   "source": [
    "gdp_per_cap = pd.DataFrame(df_list[0])\n",
    "gdp_growth = pd.DataFrame(df_list[1])\n",
    "unemployment_male = pd.DataFrame(df_list[2])\n",
    "unemployment_female = pd.DataFrame(df_list[3])\n"
   ]
  },
  {
   "cell_type": "code",
   "execution_count": 10,
   "metadata": {},
   "outputs": [],
   "source": [
    "gdp_per_cap.dropna(inplace=True)\n",
    "gdp_growth.dropna(inplace=True)\n",
    "unemployment_male.dropna(inplace=True)\n",
    "unemployment_female.dropna(inplace=True)"
   ]
  },
  {
   "cell_type": "code",
   "execution_count": 11,
   "metadata": {},
   "outputs": [],
   "source": [
    "df_list = [gdp_per_cap,gdp_growth,unemployment_male,unemployment_female]\n",
    "clean_df_list = []\n",
    "\n",
    "for df in df_list:\n",
    "    \n",
    "    indicator = df.iloc[0,0]\n",
    "    \n",
    "    df = df[[\"country\",\"year\",\"value\"]]\n",
    "    \n",
    "    df.columns = [\"country\",\"year\",indicator]\n",
    "    \n",
    "    clean_df_list.append(df)"
   ]
  },
  {
   "cell_type": "code",
   "execution_count": 12,
   "metadata": {},
   "outputs": [],
   "source": [
    "regression_df = pd.merge(clean_df_list[0],clean_df_list[1], on = [\"country\",\"year\"])\n",
    "regression_df = pd.merge(regression_df, clean_df_list[2], on = [\"country\",\"year\"])\n",
    "regression_df = pd.merge(regression_df, clean_df_list[3], on = [\"country\",\"year\"])"
   ]
  },
  {
   "cell_type": "code",
   "execution_count": 13,
   "metadata": {},
   "outputs": [],
   "source": [
    "regression_df.columns = [\"country\",\"year\",\"gdp_per_cap\",\"gdp_growth\",\"unemployment_male\",\"unemployment_female\"]"
   ]
  },
  {
   "cell_type": "code",
   "execution_count": 14,
   "metadata": {},
   "outputs": [],
   "source": [
    "MCslope, MCintercept, MCr, MCp_value, MCstdev = sts.linregress(regression_df[\"unemployment_male\"],regression_df[\"gdp_per_cap\"])\n",
    "FCslope, FCintercept, FCr, FCp_value, FCstdev = sts.linregress(regression_df[\"unemployment_female\"],regression_df[\"gdp_per_cap\"])"
   ]
  },
  {
   "cell_type": "code",
   "execution_count": 15,
   "metadata": {},
   "outputs": [],
   "source": [
    "regression_df[\"male_unemployment_best_fit_per_cap\"] = MCslope*regression_df[\"unemployment_male\"] + MCintercept"
   ]
  },
  {
   "cell_type": "code",
   "execution_count": 16,
   "metadata": {},
   "outputs": [],
   "source": [
    "regression_df[\"female_unemployment_best_fit_per_cap\"] = FCslope*regression_df[\"unemployment_female\"] + FCintercept"
   ]
  },
  {
   "cell_type": "code",
   "execution_count": 17,
   "metadata": {},
   "outputs": [],
   "source": [
    "MGslope, MGintercept, MGr, MGp_value, MGstdev = sts.linregress(regression_df[\"unemployment_male\"],regression_df[\"gdp_growth\"])\n",
    "FGslope, FGintercept, FGr, FGp_value, FGstdev = sts.linregress(regression_df[\"unemployment_female\"],regression_df[\"gdp_growth\"])"
   ]
  },
  {
   "cell_type": "code",
   "execution_count": 18,
   "metadata": {},
   "outputs": [],
   "source": [
    "regression_df[\"male_unemployment_best_fit_growth\"] = MGslope*regression_df[\"unemployment_male\"] + MGintercept"
   ]
  },
  {
   "cell_type": "code",
   "execution_count": 19,
   "metadata": {},
   "outputs": [],
   "source": [
    "regression_df[\"female_unemployment_best_fit_growth\"] = FGslope*regression_df[\"unemployment_female\"] + FGintercept"
   ]
  },
  {
   "cell_type": "code",
   "execution_count": 20,
   "metadata": {},
   "outputs": [
    {
     "data": {
      "text/html": [
       "<div>\n",
       "<style scoped>\n",
       "    .dataframe tbody tr th:only-of-type {\n",
       "        vertical-align: middle;\n",
       "    }\n",
       "\n",
       "    .dataframe tbody tr th {\n",
       "        vertical-align: top;\n",
       "    }\n",
       "\n",
       "    .dataframe thead th {\n",
       "        text-align: right;\n",
       "    }\n",
       "</style>\n",
       "<table border=\"1\" class=\"dataframe\">\n",
       "  <thead>\n",
       "    <tr style=\"text-align: right;\">\n",
       "      <th></th>\n",
       "      <th>country</th>\n",
       "      <th>year</th>\n",
       "      <th>gdp_per_cap</th>\n",
       "      <th>gdp_growth</th>\n",
       "      <th>unemployment_male</th>\n",
       "      <th>unemployment_female</th>\n",
       "      <th>male_unemployment_best_fit_per_cap</th>\n",
       "      <th>female_unemployment_best_fit_per_cap</th>\n",
       "      <th>male_unemployment_best_fit_growth</th>\n",
       "      <th>female_unemployment_best_fit_growth</th>\n",
       "    </tr>\n",
       "  </thead>\n",
       "  <tbody>\n",
       "    <tr>\n",
       "      <th>0</th>\n",
       "      <td>United States</td>\n",
       "      <td>2018</td>\n",
       "      <td>62794.585652</td>\n",
       "      <td>2.927323</td>\n",
       "      <td>3.9468</td>\n",
       "      <td>3.8377</td>\n",
       "      <td>30434.291828</td>\n",
       "      <td>43345.097441</td>\n",
       "      <td>3.564230</td>\n",
       "      <td>3.254315</td>\n",
       "    </tr>\n",
       "    <tr>\n",
       "      <th>1</th>\n",
       "      <td>United States</td>\n",
       "      <td>2017</td>\n",
       "      <td>59927.929834</td>\n",
       "      <td>2.217010</td>\n",
       "      <td>4.3964</td>\n",
       "      <td>4.3086</td>\n",
       "      <td>30314.062258</td>\n",
       "      <td>40818.565109</td>\n",
       "      <td>3.402721</td>\n",
       "      <td>3.159945</td>\n",
       "    </tr>\n",
       "    <tr>\n",
       "      <th>2</th>\n",
       "      <td>United States</td>\n",
       "      <td>2016</td>\n",
       "      <td>57904.201961</td>\n",
       "      <td>1.567215</td>\n",
       "      <td>4.9397</td>\n",
       "      <td>4.7888</td>\n",
       "      <td>30168.775900</td>\n",
       "      <td>38242.136559</td>\n",
       "      <td>3.207552</td>\n",
       "      <td>3.063712</td>\n",
       "    </tr>\n",
       "    <tr>\n",
       "      <th>3</th>\n",
       "      <td>United States</td>\n",
       "      <td>2015</td>\n",
       "      <td>56803.472433</td>\n",
       "      <td>2.880910</td>\n",
       "      <td>5.3692</td>\n",
       "      <td>5.1785</td>\n",
       "      <td>30053.921330</td>\n",
       "      <td>36151.266799</td>\n",
       "      <td>3.053262</td>\n",
       "      <td>2.985615</td>\n",
       "    </tr>\n",
       "    <tr>\n",
       "      <th>4</th>\n",
       "      <td>United States</td>\n",
       "      <td>2014</td>\n",
       "      <td>55032.957998</td>\n",
       "      <td>2.451973</td>\n",
       "      <td>6.2620</td>\n",
       "      <td>6.0603</td>\n",
       "      <td>29815.173672</td>\n",
       "      <td>31420.123946</td>\n",
       "      <td>2.732543</td>\n",
       "      <td>2.808899</td>\n",
       "    </tr>\n",
       "  </tbody>\n",
       "</table>\n",
       "</div>"
      ],
      "text/plain": [
       "         country  year   gdp_per_cap  gdp_growth  unemployment_male  \\\n",
       "0  United States  2018  62794.585652    2.927323             3.9468   \n",
       "1  United States  2017  59927.929834    2.217010             4.3964   \n",
       "2  United States  2016  57904.201961    1.567215             4.9397   \n",
       "3  United States  2015  56803.472433    2.880910             5.3692   \n",
       "4  United States  2014  55032.957998    2.451973             6.2620   \n",
       "\n",
       "   unemployment_female  male_unemployment_best_fit_per_cap  \\\n",
       "0               3.8377                        30434.291828   \n",
       "1               4.3086                        30314.062258   \n",
       "2               4.7888                        30168.775900   \n",
       "3               5.1785                        30053.921330   \n",
       "4               6.0603                        29815.173672   \n",
       "\n",
       "   female_unemployment_best_fit_per_cap  male_unemployment_best_fit_growth  \\\n",
       "0                          43345.097441                           3.564230   \n",
       "1                          40818.565109                           3.402721   \n",
       "2                          38242.136559                           3.207552   \n",
       "3                          36151.266799                           3.053262   \n",
       "4                          31420.123946                           2.732543   \n",
       "\n",
       "   female_unemployment_best_fit_growth  \n",
       "0                             3.254315  \n",
       "1                             3.159945  \n",
       "2                             3.063712  \n",
       "3                             2.985615  \n",
       "4                             2.808899  "
      ]
     },
     "execution_count": 20,
     "metadata": {},
     "output_type": "execute_result"
    }
   ],
   "source": [
    "regression_df.head()"
   ]
  },
  {
   "cell_type": "markdown",
   "metadata": {},
   "source": [
    "## Regression GDP Per Capita v. Unemployment Male"
   ]
  },
  {
   "cell_type": "code",
   "execution_count": 21,
   "metadata": {},
   "outputs": [
    {
     "name": "stdout",
     "output_type": "stream",
     "text": [
      "The correlation coefficient for this relationship is -0.03\n"
     ]
    },
    {
     "data": {
      "image/png": "[encoded data removed]",
      "text/plain": [
       "<Figure size 432x288 with 1 Axes>"
      ]
     },
     "metadata": {
      "needs_background": "light"
     },
     "output_type": "display_data"
    }
   ],
   "source": [
    "plt.scatter(regression_df[\"unemployment_male\"],regression_df[\"gdp_per_cap\"])\n",
    "plt.plot(regression_df[\"unemployment_male\"],regression_df[\"male_unemployment_best_fit_per_cap\"], c=\"red\")\n",
    "plt.title(\"GDP Per Capita (current US$) v. Unemployment Male (% male labor force)\")\n",
    "plt.xlabel(\"Unemployment Male (% male labor force)\")\n",
    "plt.ylabel(\"GDP Per Capita (current US$)\")\n",
    "\n",
    "print(f\"The correlation coefficient for this relationship is {round(MCr,2)}\")\n"
   ]
  },
  {
   "cell_type": "code",
   "execution_count": 22,
   "metadata": {},
   "outputs": [
    {
     "name": "stdout",
     "output_type": "stream",
     "text": [
      "The correlation coefficient for this relationship is -0.46\n"
     ]
    },
    {
     "data": {
      "image/png": "[encoded data removed]",
      "text/plain": [
       "<Figure size 432x288 with 1 Axes>"
      ]
     },
     "metadata": {
      "needs_background": "light"
     },
     "output_type": "display_data"
    }
   ],
   "source": [
    "plt.scatter(regression_df[\"unemployment_female\"],regression_df[\"gdp_per_cap\"])\n",
    "plt.plot(regression_df[\"unemployment_female\"],regression_df[\"female_unemployment_best_fit_per_cap\"], c=\"red\")\n",
    "plt.title(\"GDP Per Capita (current US$) v. Unemployment Female (% female labor force)\")\n",
    "plt.xlabel(\"Unemployment Female (% Female labor force)\")\n",
    "plt.ylabel(\"GDP Per Capita (current US$)\")\n",
    "\n",
    "print(f\"The correlation coefficient for this relationship is {round(FCr,2)}\")"
   ]
  },
  {
   "cell_type": "code",
   "execution_count": 23,
   "metadata": {},
   "outputs": [
    {
     "name": "stdout",
     "output_type": "stream",
     "text": [
      "The correlation coefficient for this relationship is -0.31\n"
     ]
    },
    {
     "data": {
      "image/png": "[encoded data removed]",
      "text/plain": [
       "<Figure size 432x288 with 1 Axes>"
      ]
     },
     "metadata": {
      "needs_background": "light"
     },
     "output_type": "display_data"
    }
   ],
   "source": [
    "plt.scatter(regression_df[\"unemployment_male\"],regression_df[\"gdp_growth\"])\n",
    "plt.plot(regression_df[\"unemployment_male\"],regression_df[\"male_unemployment_best_fit_growth\"], c=\"red\")\n",
    "plt.title(\"GDP Growth (%) v. Unemployment Male (% male labor force)\")\n",
    "plt.xlabel(\"Unemployment Male (% male labor force)\")\n",
    "plt.ylabel(\"GDP Growth (%)\")\n",
    "\n",
    "print(f\"The correlation coefficient for this relationship is {round(MGr,2)}\")\n"
   ]
  },
  {
   "cell_type": "code",
   "execution_count": 24,
   "metadata": {},
   "outputs": [
    {
     "name": "stdout",
     "output_type": "stream",
     "text": [
      "The correlation coefficient for this relationship is -0.15\n"
     ]
    },
    {
     "data": {
      "image/png": "[encoded data removed]",
      "text/plain": [
       "<Figure size 432x288 with 1 Axes>"
      ]
     },
     "metadata": {
      "needs_background": "light"
     },
     "output_type": "display_data"
    }
   ],
   "source": [
    "plt.scatter(regression_df[\"unemployment_female\"],regression_df[\"gdp_growth\"])\n",
    "plt.plot(regression_df[\"unemployment_female\"],regression_df[\"female_unemployment_best_fit_growth\"], c=\"red\")\n",
    "plt.title(\"GDP Growth (%) v. Unemployment Female (% female labor force)\")\n",
    "plt.xlabel(\"Unemployment Female (% Female labor force)\")\n",
    "plt.ylabel(\"GDP Growth (%)\")\n",
    "\n",
    "print(f\"The correlation coefficient for this relationship is {round(FGr,2)}\")"
   ]
  },
  {
   "cell_type": "code",
   "execution_count": null,
   "metadata": {},
   "outputs": [],
   "source": []
  }
 ],
 "metadata": {
  "kernelspec": {
   "display_name": "Python [conda env:PythonData] *",
   "language": "python",
   "name": "conda-env-PythonData-py"
  },
  "language_info": {
   "codemirror_mode": {
    "name": "ipython",
    "version": 3
   },
   "file_extension": ".py",
   "mimetype": "text/x-python",
   "name": "python",
   "nbconvert_exporter": "python",
   "pygments_lexer": "ipython3",
   "version": "3.6.10"
  }
 },
 "nbformat": 4,
 "nbformat_minor": 4
}
