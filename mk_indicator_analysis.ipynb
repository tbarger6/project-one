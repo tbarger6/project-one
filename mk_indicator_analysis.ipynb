{
 "cells": [
  {
   "cell_type": "code",
   "execution_count": 1,
   "metadata": {},
   "outputs": [],
   "source": [
    "import pandas as pd\n",
    "import matplotlib.pyplot as plt\n",
    "import requests\n",
    "import json\n",
    "import numpy as np\n",
    "import scipy.stats as sts"
   ]
  },
  {
   "cell_type": "markdown",
   "metadata": {},
   "source": [
    "## World Bank API Call and Data Cleaning"
   ]
  },
  {
   "cell_type": "code",
   "execution_count": null,
   "metadata": {},
   "outputs": [],
   "source": [
    "#Define list of indicators you want to loop through\n",
    "indicator_list = list([\"NY.GDP.PCAP.CD\",\"NY.GDP.MKTP.KD.ZG\",\"SL.UEM.TOTL.MA.NE.ZS\",\"SL.UEM.TOTL.FE.NE.ZS\"])\n",
    "\n",
    "#Define country that I'm interested in\n",
    "country= \"usa\"\n",
    "\n",
    "#Find base url for api\n",
    "base_url = \"http://api.worldbank.org/v2\"\n",
    "\n",
    "#Choose desired format\n",
    "response_format = \"json\"\n",
    "\n",
    "#create empty list to store the response\n",
    "api_responses = []\n",
    "\n",
    "for indicator in indicator_list:\n",
    "    \n",
    "    #Build api request \n",
    "    request_url = f\"{base_url}/country/{country}/indicator/{indicator}?format={response_format}\"\n",
    "\n",
    "    #Submit api request and store as response variable\n",
    "    response = requests.get(request_url).json()\n",
    "    \n",
    "    #Add each response \n",
    "    api_responses = api_responses + response[1]\n"
   ]
  },
  {
   "cell_type": "code",
   "execution_count": null,
   "metadata": {},
   "outputs": [],
   "source": [
    "api_responses[0][\"indicator\"][\"value\"]"
   ]
  },
  {
   "cell_type": "code",
   "execution_count": null,
   "metadata": {},
   "outputs": [],
   "source": [
    "indicator_list = []\n",
    "country_list = []\n",
    "year_list = []\n",
    "value_list = []\n",
    "\n",
    "for dictionary in api_responses:\n",
    "    \n",
    "    indicator = dictionary[\"indicator\"][\"value\"]\n",
    "    country = dictionary[\"country\"][\"value\"]\n",
    "    year = dictionary[\"date\"]\n",
    "    value = dictionary[\"value\"]\n",
    "    \n",
    "    indicator_list.append(indicator)\n",
    "    country_list.append(country)\n",
    "    year_list.append(year)\n",
    "    value_list.append(value)\n",
    "    \n",
    "\n",
    "    "
   ]
  },
  {
   "cell_type": "code",
   "execution_count": null,
   "metadata": {},
   "outputs": [],
   "source": [
    "usa_indicator_dict = {\n",
    "    \"indicator\":indicator_list,\n",
    "    \"country\":country_list,\n",
    "    \"year\":year_list,\n",
    "    \"value\":value_list\n",
    "}"
   ]
  },
  {
   "cell_type": "code",
   "execution_count": null,
   "metadata": {},
   "outputs": [],
   "source": [
    "df = pd.DataFrame(usa_indicator_dict)"
   ]
  },
  {
   "cell_type": "code",
   "execution_count": null,
   "metadata": {},
   "outputs": [],
   "source": [
    "indicator_list = list(df[\"indicator\"].unique())\n",
    "indicator_list"
   ]
  },
  {
   "cell_type": "code",
   "execution_count": null,
   "metadata": {},
   "outputs": [],
   "source": [
    "df_list = []\n",
    "\n",
    "for indicator in indicator_list:\n",
    "    \n",
    "    sub_df = df.loc[df[\"indicator\"]==indicator]\n",
    "    \n",
    "    df_list.append(sub_df)"
   ]
  },
  {
   "cell_type": "code",
   "execution_count": null,
   "metadata": {},
   "outputs": [],
   "source": [
    "gdp_per_cap = pd.DataFrame(df_list[0])\n",
    "gdp_growth = pd.DataFrame(df_list[1])\n",
    "unemployment_male = pd.DataFrame(df_list[2])\n",
    "unemployment_female = pd.DataFrame(df_list[3])\n"
   ]
  },
  {
   "cell_type": "code",
   "execution_count": null,
   "metadata": {},
   "outputs": [],
   "source": [
    "gdp_per_cap.dropna(inplace=True)\n",
    "gdp_growth.dropna(inplace=True)\n",
    "unemployment_male.dropna(inplace=True)\n",
    "unemployment_female.dropna(inplace=True)"
   ]
  },
  {
   "cell_type": "code",
   "execution_count": null,
   "metadata": {},
   "outputs": [],
   "source": [
    "df_list = [gdp_per_cap,gdp_growth,unemployment_male,unemployment_female]\n",
    "clean_df_list = []\n",
    "\n",
    "for df in df_list:\n",
    "    \n",
    "    indicator = df.iloc[0,0]\n",
    "    \n",
    "    df = df[[\"country\",\"year\",\"value\"]]\n",
    "    \n",
    "    df.columns = [\"country\",\"year\",indicator]\n",
    "    \n",
    "    clean_df_list.append(df)"
   ]
  },
  {
   "cell_type": "code",
   "execution_count": null,
   "metadata": {},
   "outputs": [],
   "source": [
    "regression_df = pd.merge(clean_df_list[0],clean_df_list[1], on = [\"country\",\"year\"])\n",
    "regression_df = pd.merge(regression_df, clean_df_list[2], on = [\"country\",\"year\"])\n",
    "regression_df = pd.merge(regression_df, clean_df_list[3], on = [\"country\",\"year\"])"
   ]
  },
  {
   "cell_type": "code",
   "execution_count": null,
   "metadata": {},
   "outputs": [],
   "source": [
    "regression_df.columns = [\"country\",\"year\",\"gdp_per_cap\",\"gdp_growth\",\"unemployment_male\",\"unemployment_female\"]"
   ]
  },
  {
   "cell_type": "code",
   "execution_count": null,
   "metadata": {},
   "outputs": [],
   "source": [
    "MCslope, MCintercept, MCr, MCp_value, MCstdev = sts.linregress(regression_df[\"unemployment_male\"],regression_df[\"gdp_per_cap\"])\n",
    "FCslope, FCintercept, FCr, FCp_value, FCstdev = sts.linregress(regression_df[\"unemployment_female\"],regression_df[\"gdp_per_cap\"])"
   ]
  },
  {
   "cell_type": "code",
   "execution_count": null,
   "metadata": {},
   "outputs": [],
   "source": [
    "regression_df[\"male_unemployment_best_fit_per_cap\"] = MCslope*regression_df[\"unemployment_male\"] + MCintercept"
   ]
  },
  {
   "cell_type": "code",
   "execution_count": null,
   "metadata": {},
   "outputs": [],
   "source": [
    "regression_df[\"female_unemployment_best_fit_per_cap\"] = FCslope*regression_df[\"unemployment_female\"] + FCintercept"
   ]
  },
  {
   "cell_type": "code",
   "execution_count": null,
   "metadata": {},
   "outputs": [],
   "source": [
    "MGslope, MGintercept, MGr, MGp_value, MGstdev = sts.linregress(regression_df[\"unemployment_male\"],regression_df[\"gdp_growth\"])\n",
    "FGslope, FGintercept, FGr, FGp_value, FGstdev = sts.linregress(regression_df[\"unemployment_female\"],regression_df[\"gdp_growth\"])"
   ]
  },
  {
   "cell_type": "code",
   "execution_count": null,
   "metadata": {},
   "outputs": [],
   "source": [
    "regression_df[\"male_unemployment_best_fit_growth\"] = MGslope*regression_df[\"unemployment_male\"] + MGintercept"
   ]
  },
  {
   "cell_type": "code",
   "execution_count": null,
   "metadata": {},
   "outputs": [],
   "source": [
    "regression_df[\"female_unemployment_best_fit_growth\"] = FGslope*regression_df[\"unemployment_female\"] + FGintercept"
   ]
  },
  {
   "cell_type": "code",
   "execution_count": null,
   "metadata": {},
   "outputs": [],
   "source": [
    "regression_df.head()"
   ]
  },
  {
   "cell_type": "markdown",
   "metadata": {},
   "source": [
    "## Regression GDP Per Capita v. Unemployment Male"
   ]
  },
  {
   "cell_type": "code",
   "execution_count": null,
   "metadata": {},
   "outputs": [],
   "source": [
    "plt.scatter(regression_df[\"unemployment_male\"],regression_df[\"gdp_per_cap\"])\n",
    "plt.plot(regression_df[\"unemployment_male\"],regression_df[\"male_unemployment_best_fit_per_cap\"], c=\"red\")\n",
    "plt.title(\"GDP Per Capita (current US$) v. Unemployment Male (% male labor force)\")\n",
    "plt.xlabel(\"Unemployment Male (% male labor force)\")\n",
    "plt.ylabel(\"GDP Per Capita (current US$)\")\n",
    "\n",
    "print(f\"The correlation coefficient for this relationship is {round(MCr,2)}\")\n"
   ]
  },
  {
   "cell_type": "code",
   "execution_count": null,
   "metadata": {},
   "outputs": [],
   "source": [
    "plt.scatter(regression_df[\"unemployment_female\"],regression_df[\"gdp_per_cap\"])\n",
    "plt.plot(regression_df[\"unemployment_female\"],regression_df[\"female_unemployment_best_fit_per_cap\"], c=\"red\")\n",
    "plt.title(\"GDP Per Capita (current US$) v. Unemployment Female (% female labor force)\")\n",
    "plt.xlabel(\"Unemployment Female (% Female labor force)\")\n",
    "plt.ylabel(\"GDP Per Capita (current US$)\")\n",
    "\n",
    "print(f\"The correlation coefficient for this relationship is {round(FCr,2)}\")"
   ]
  },
  {
   "cell_type": "code",
   "execution_count": null,
   "metadata": {},
   "outputs": [],
   "source": [
    "plt.scatter(regression_df[\"unemployment_male\"],regression_df[\"gdp_growth\"])\n",
    "plt.plot(regression_df[\"unemployment_male\"],regression_df[\"male_unemployment_best_fit_growth\"], c=\"red\")\n",
    "plt.title(\"GDP Growth (%) v. Unemployment Male (% male labor force)\")\n",
    "plt.xlabel(\"Unemployment Male (% male labor force)\")\n",
    "plt.ylabel(\"GDP Growth (%)\")\n",
    "\n",
    "print(f\"The correlation coefficient for this relationship is {round(MGr,2)}\")\n"
   ]
  },
  {
   "cell_type": "code",
   "execution_count": null,
   "metadata": {},
   "outputs": [],
   "source": [
    "plt.scatter(regression_df[\"unemployment_female\"],regression_df[\"gdp_growth\"])\n",
    "plt.plot(regression_df[\"unemployment_female\"],regression_df[\"female_unemployment_best_fit_growth\"], c=\"red\")\n",
    "plt.title(\"GDP Growth (%) v. Unemployment Female (% female labor force)\")\n",
    "plt.xlabel(\"Unemployment Female (% Female labor force)\")\n",
    "plt.ylabel(\"GDP Growth (%)\")\n",
    "\n",
    "print(f\"The correlation coefficient for this relationship is {round(FGr,2)}\")"
   ]
  },
  {
   "cell_type": "code",
   "execution_count": null,
   "metadata": {},
   "outputs": [],
   "source": []
  }
 ],
 "metadata": {
  "kernelspec": {
   "display_name": "Python [conda env:PythonData] *",
   "language": "python",
   "name": "conda-env-PythonData-py"
  },
  "language_info": {
   "codemirror_mode": {
    "name": "ipython",
    "version": 3
   },
   "file_extension": ".py",
   "mimetype": "text/x-python",
   "name": "python",
   "nbconvert_exporter": "python",
   "pygments_lexer": "ipython3",
   "version": "3.6.10"
  }
 },
 "nbformat": 4,
 "nbformat_minor": 4
}
